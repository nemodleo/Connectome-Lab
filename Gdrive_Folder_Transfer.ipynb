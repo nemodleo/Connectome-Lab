{
  "nbformat": 4,
  "nbformat_minor": 0,
  "metadata": {
    "colab": {
      "name": "Gdrive Folder Transfer.ipynb",
      "provenance": [],
      "collapsed_sections": [
        "uguzWHPBsm0c"
      ],
      "include_colab_link": true
    },
    "kernelspec": {
      "name": "python3",
      "display_name": "Python 3"
    },
    "language_info": {
      "name": "python"
    }
  },
  "cells": [
    {
      "cell_type": "markdown",
      "metadata": {
        "id": "view-in-github",
        "colab_type": "text"
      },
      "source": [
        "<a href=\"https://colab.research.google.com/github/nemodleo/Connectome-Lab/blob/main/Gdrive_Folder_Transfer.ipynb\" target=\"_parent\"><img src=\"https://colab.research.google.com/assets/colab-badge.svg\" alt=\"Open In Colab\"/></a>"
      ]
    },
    {
      "cell_type": "markdown",
      "metadata": {
        "id": "n6wvzj0x8OxK"
      },
      "source": [
        "# Gdrive Folder Transfer\n",
        "### 공유문서함 to Server 도 가능합니다."
      ]
    },
    {
      "cell_type": "markdown",
      "metadata": {
        "id": "HRVOBsx28ZPG"
      },
      "source": [
        "**in google drive**\n",
        "\n",
        "공유문서함인 경우, 공유문서함의 폴더 우클릭 > 드라이브에 바로가기 추가\n",
        "\n",
        "본 문서에서는 `/content/drive/Shareddrives/FastMRI-Duya/Data/image_Leaderboard`에 바로가기 추가하였다."
      ]
    },
    {
      "cell_type": "markdown",
      "metadata": {
        "id": "c47au-BT9OvQ"
      },
      "source": [
        "### file id check"
      ]
    },
    {
      "cell_type": "code",
      "metadata": {
        "colab": {
          "base_uri": "https://localhost:8080/"
        },
        "id": "_cVoDApJ8ZPG",
        "outputId": "5011a179-2412-4c34-e5a2-643960a34715"
      },
      "source": [
        "from google.colab import drive\n",
        "drive.mount('/content/drive')"
      ],
      "execution_count": null,
      "outputs": [
        {
          "output_type": "stream",
          "name": "stdout",
          "text": [
            "Mounted at /content/drive\n"
          ]
        }
      ]
    },
    {
      "cell_type": "code",
      "metadata": {
        "colab": {
          "base_uri": "https://localhost:8080/"
        },
        "id": "Eg6ZGeu48ZPI",
        "outputId": "52b348af-a00f-4fca-ee38-62f1c38293ea"
      },
      "source": [
        "cd /content/drive/Shareddrives/FastMRI-Duya/Data/image_Leaderboard"
      ],
      "execution_count": null,
      "outputs": [
        {
          "output_type": "stream",
          "name": "stdout",
          "text": [
            "/content/drive/.shortcut-targets-by-id/1xinBP_G8M9B7AAXhQOZ7FRLCzqDKExeT/image_Leaderboard\n"
          ]
        }
      ]
    },
    {
      "cell_type": "code",
      "metadata": {
        "id": "61LA6RqK42S9"
      },
      "source": [
        "from google.colab import auth\n",
        "auth.authenticate_user()\n",
        "from googleapiclient.discovery import build\n",
        "drive_service = build('drive', 'v3')"
      ],
      "execution_count": 21,
      "outputs": []
    },
    {
      "cell_type": "code",
      "metadata": {
        "id": "kzd0RvIF7UnT"
      },
      "source": [
        "Folder_ID=\"1xinBP_G8M9B7AAXhQOZ7FRLCzqDKExeT\""
      ],
      "execution_count": 27,
      "outputs": []
    },
    {
      "cell_type": "code",
      "metadata": {
        "id": "Y6RwPGQ7528e"
      },
      "source": [
        "response = drive_service.files().list(q=\"parents in '\"+ Folder_ID +\"'\",\n",
        "                                              spaces='drive',\n",
        "                                              fields='nextPageToken, files(id, name)',\n",
        "                                              pageToken=page_token).execute()"
      ],
      "execution_count": 29,
      "outputs": []
    },
    {
      "cell_type": "code",
      "metadata": {
        "colab": {
          "base_uri": "https://localhost:8080/"
        },
        "id": "cv-qVhvB7iv_",
        "outputId": "4ea3c4ad-4d74-498a-b84d-d47a54e6a3fe"
      },
      "source": [
        "print(\"FILES=(\", end=\"\")\n",
        "for i, file in enumerate(response.get('files', [])):    \n",
        "    print(\"\\\"{}:{}\\\"\".format(file.get('id'), file.get('name')), end=\"\")\n",
        "\n",
        "    if i+1 == len(response.get('files', [])):\n",
        "        print(\")\")\n",
        "    else:\n",
        "        print()"
      ],
      "execution_count": 63,
      "outputs": [
        {
          "output_type": "stream",
          "name": "stdout",
          "text": [
            "FILES=(\"1za7OPX6SF-XaJtzJNmoMVLApWWgQZDC1:brain_test2.h5\"\n",
            "\"1km38l-3ycQe_w_A-sGAoeInYf877mnsP:brain_test7.h5\"\n",
            "\"1BJyAVQHg5f4CLeAqyMJmmERVMZ4miIOF:brain_test3.h5\"\n",
            "\"1kqG7eJMjSnSFUyJ13KJ12Q7qjmsihxd_:brain_test4.h5\"\n",
            "\"1Z0YJbQ0GcEvLTisW7C08Kdr2CZ4Lqn3U:brain_test9.h5\"\n",
            "\"1qe6SiuL4_88_4sCKuco7By_fvWoy4Tsa:brain_test19.h5\"\n",
            "\"17uLAn7ygc1HILJ54OMO3lmKAqTTixojy:brain_test15.h5\"\n",
            "\"1bqpPC1HDxboeYHBBIx9CRXQ4VGYYNkWW:brain_test10.h5\"\n",
            "\"1c3GsUceTPhEj_IVYfPsdefpE4IUw2BoV:brain_test5.h5\"\n",
            "\"1kBcYnL5eUMJru9Av9OJWBTvOOS5d_b70:brain_test12.h5\"\n",
            "\"1c0VaEHH64yuEhI2t4l8SlpPQN44_oHsR:brain_test8.h5\"\n",
            "\"1We-I72_FuKX5zTS74UQzUz0lIuD3D5FC:brain_test18.h5\"\n",
            "\"1DfLRJy53SjSZr9telKsns5kxKCsq5uG2:brain_test6.h5\"\n",
            "\"1AUhsMow7p4Zf4yytM_N5_Mrky31Yq61z:brain_test16.h5\"\n",
            "\"12JJZGPz10K4tWEEM87XnK3479ny_VHGK:brain_test11.h5\"\n",
            "\"1wVe3zTHtDcQOjLoBDju-AELpslv-nIbu:brain_test30.h5\"\n",
            "\"1M3QuDa7I_-s3T2f8KwGzwAfnmszLXOqH:brain_test27.h5\"\n",
            "\"1N7Kz6LDYsoToVrYnVxJafbd-a2ShqwRd:brain_test13.h5\"\n",
            "\"1FXAoPYIF83pHvusG6ritOu7c8MdmWzBf:brain_test1.h5\"\n",
            "\"1GB9zFoh-PjwbjDg4MSwTTsUAVAUQlMbB:brain_test20.h5\"\n",
            "\"1P3IH2HIOy648VSOmA8hTB-JUMja5GRgr:brain_test28.h5\"\n",
            "\"1RJxzBLa_PWTXHkYuXuRCb4MfC2QP25v9:brain_test32.h5\"\n",
            "\"1L0sKdwooHFF4LSex4gm0vQ48Vq5auLdu:brain_test43.h5\"\n",
            "\"1i9Syx540tv_OhIdJPFjTiDr6lCIsa5zk:brain_test14.h5\"\n",
            "\"13ONqbTVlK05YpxQEHEBQ-2Zea_EhJxfp:brain_test33.h5\"\n",
            "\"1I8cWsOy3PhA_iHVpK_H_fsqOAOZl9c74:brain_test50.h5\"\n",
            "\"1fyJGIsyG1G-sMzG1nGTHNkV1k2Vp90YI:brain_test42.h5\"\n",
            "\"1hnvS-F6h8G2O9PoiorSgfhVwtBCHQux6:brain_test39.h5\"\n",
            "\"1MzMV0EmVjZry7v3kwOB2rMRNxhvSQGsG:brain_test31.h5\"\n",
            "\"1PEGFF6vDxB4KjAm3F0I4ZxkEvxobK9fv:brain_test29.h5\"\n",
            "\"1Pl1amtlp0R2uVRSNyitpiCDrGtPmQJOf:brain_test38.h5\"\n",
            "\"1s261JquaZxp_c4P2g6Nz2MYT4f61KQYW:brain_test44.h5\"\n",
            "\"1LcSolIrPG3f986d9xEd0faQYDbKIWD-i:brain_test45.h5\"\n",
            "\"1Tzl3El1YcaXiL6Aa8u7_iEcnFNWatGYc:brain_test24.h5\"\n",
            "\"1E_R6sT0nrRtb3vbMldFL4JFFuPv3hRn3:brain_test40.h5\"\n",
            "\"1mGR_GsPrmYBIgWyCCyHZ5A2ceSAEBhd0:brain_test17.h5\"\n",
            "\"16KMFOck4ZhSNoBASr2qIgCwMbWGVM_PI:brain_test46.h5\"\n",
            "\"1mwPYLPT4TZiK2En4JMvx_J0YBnCfhV86:brain_test48.h5\"\n",
            "\"1B5WuBiNiOFACqYQxboKqE_plu1cPeb1k:brain_test35.h5\"\n",
            "\"1t8x1go7US_SFWzkRX_xZ3kE7zbVvvLNr:brain_test49.h5\"\n",
            "\"1mT5ulRjqpTKOb5CotLPZ23xF1TvxkAUj:brain_test36.h5\"\n",
            "\"1HQqDOJ5CK4j8LBdPpGqDZL-OpBR3BJdf:brain_test25.h5\"\n",
            "\"1n7UmYgDV1WKbylEo9qBR6Ehz7WPkV4n0:brain_test26.h5\"\n",
            "\"1TU29dD1HDGuzJ7H600fYp7bu1ERHd6-O:brain_test22.h5\"\n",
            "\"1104q92wm9ByT32T_moDC-Igi1fZlsKY3:brain_test34.h5\"\n",
            "\"12h5gI6Qv8a2d4oNk7nP2doyA4BxybGH4:brain_test23.h5\"\n",
            "\"1quteZisfpuo2GI8Z4rkl7mnwCOsjhUmH:brain_test21.h5\"\n",
            "\"1Ipx5ad1ZnypDMMr6wzmbyYrE5S8Jqr_m:brain_test37.h5\"\n",
            "\"1v8SXA9qqUaCTWaBDpFPGq7TRw7MiHGIL:brain_test47.h5\"\n",
            "\"1QkBtjqO20zWLwFlTjJfXxrp1_rog7Y1P:brain_test41.h5\")\n"
          ]
        }
      ]
    },
    {
      "cell_type": "markdown",
      "metadata": {
        "id": "DEILaSwT9K-0"
      },
      "source": [
        "### **in Terminal**\n",
        "\n",
        "* nemod@master:/scratch/connectome/nemod/FastMRI 접속\n",
        "\n",
        "* nemod@master:/scratch/connectome/nemod/FastMRI$\n",
        "```FILES=({복사한 파일들})\n",
        "for file in \"${FILES[@]}\" ; do\n",
        "    ID=\"${file%%:*}\"\n",
        "    FILE=\"${file##*:}\"\n",
        "    echo \"$ID\" \"$NAME\"\n",
        "    curl -c ./cookie -s -L \"https://drive.google.com/uc?export=download&id=${ID}\" > /dev/null\n",
        "    curl -Lb ./cookie \"https://drive.google.com/uc?export=download&confirm=`awk '/download/ {print $NF}' ./cookie`&id=${ID}\" -o ${FILE}\n",
        "done\n",
        "rm cookie\n",
        "```\n",
        "\n",
        "* (example) nemod@master:/scratch/connectome/nemod/FastMRI$\n",
        "```\n",
        "FILES=(\"1za7OPX6SF-XaJtzJNmoMVLApWWgQZDC1:brain_test2.h5\"\n",
        "\"1km38l-3ycQe_w_A-sGAoeInYf877mnsP:brain_test7.h5\"\n",
        "\"1BJyAVQHg5f4CLeAqyMJmmERVMZ4miIOF:brain_test3.h5\"\n",
        "\"1kqG7eJMjSnSFUyJ13KJ12Q7qjmsihxd_:brain_test4.h5\"\n",
        "\"1Z0YJbQ0GcEvLTisW7C08Kdr2CZ4Lqn3U:brain_test9.h5\"\n",
        "\"1qe6SiuL4_88_4sCKuco7By_fvWoy4Tsa:brain_test19.h5\"\n",
        "\"17uLAn7ygc1HILJ54OMO3lmKAqTTixojy:brain_test15.h5\"\n",
        "\"1bqpPC1HDxboeYHBBIx9CRXQ4VGYYNkWW:brain_test10.h5\"\n",
        "\"1c3GsUceTPhEj_IVYfPsdefpE4IUw2BoV:brain_test5.h5\"\n",
        "\"1kBcYnL5eUMJru9Av9OJWBTvOOS5d_b70:brain_test12.h5\"\n",
        "\"1c0VaEHH64yuEhI2t4l8SlpPQN44_oHsR:brain_test8.h5\"\n",
        "\"1We-I72_FuKX5zTS74UQzUz0lIuD3D5FC:brain_test18.h5\"\n",
        "\"1DfLRJy53SjSZr9telKsns5kxKCsq5uG2:brain_test6.h5\"\n",
        "\"1AUhsMow7p4Zf4yytM_N5_Mrky31Yq61z:brain_test16.h5\"\n",
        "\"12JJZGPz10K4tWEEM87XnK3479ny_VHGK:brain_test11.h5\"\n",
        "\"1wVe3zTHtDcQOjLoBDju-AELpslv-nIbu:brain_test30.h5\"\n",
        "\"1M3QuDa7I_-s3T2f8KwGzwAfnmszLXOqH:brain_test27.h5\"\n",
        "\"1N7Kz6LDYsoToVrYnVxJafbd-a2ShqwRd:brain_test13.h5\"\n",
        "\"1FXAoPYIF83pHvusG6ritOu7c8MdmWzBf:brain_test1.h5\"\n",
        "\"1GB9zFoh-PjwbjDg4MSwTTsUAVAUQlMbB:brain_test20.h5\"\n",
        "\"1P3IH2HIOy648VSOmA8hTB-JUMja5GRgr:brain_test28.h5\"\n",
        "\"1RJxzBLa_PWTXHkYuXuRCb4MfC2QP25v9:brain_test32.h5\"\n",
        "\"1L0sKdwooHFF4LSex4gm0vQ48Vq5auLdu:brain_test43.h5\"\n",
        "\"1i9Syx540tv_OhIdJPFjTiDr6lCIsa5zk:brain_test14.h5\"\n",
        "\"13ONqbTVlK05YpxQEHEBQ-2Zea_EhJxfp:brain_test33.h5\"\n",
        "\"1I8cWsOy3PhA_iHVpK_H_fsqOAOZl9c74:brain_test50.h5\"\n",
        "\"1fyJGIsyG1G-sMzG1nGTHNkV1k2Vp90YI:brain_test42.h5\"\n",
        "\"1hnvS-F6h8G2O9PoiorSgfhVwtBCHQux6:brain_test39.h5\"\n",
        "\"1MzMV0EmVjZry7v3kwOB2rMRNxhvSQGsG:brain_test31.h5\"\n",
        "\"1PEGFF6vDxB4KjAm3F0I4ZxkEvxobK9fv:brain_test29.h5\"\n",
        "\"1Pl1amtlp0R2uVRSNyitpiCDrGtPmQJOf:brain_test38.h5\"\n",
        "\"1s261JquaZxp_c4P2g6Nz2MYT4f61KQYW:brain_test44.h5\"\n",
        "\"1LcSolIrPG3f986d9xEd0faQYDbKIWD-i:brain_test45.h5\"\n",
        "\"1Tzl3El1YcaXiL6Aa8u7_iEcnFNWatGYc:brain_test24.h5\"\n",
        "\"1E_R6sT0nrRtb3vbMldFL4JFFuPv3hRn3:brain_test40.h5\"\n",
        "\"1mGR_GsPrmYBIgWyCCyHZ5A2ceSAEBhd0:brain_test17.h5\"\n",
        "\"16KMFOck4ZhSNoBASr2qIgCwMbWGVM_PI:brain_test46.h5\"\n",
        "\"1mwPYLPT4TZiK2En4JMvx_J0YBnCfhV86:brain_test48.h5\"\n",
        "\"1B5WuBiNiOFACqYQxboKqE_plu1cPeb1k:brain_test35.h5\"\n",
        "\"1t8x1go7US_SFWzkRX_xZ3kE7zbVvvLNr:brain_test49.h5\"\n",
        "\"1mT5ulRjqpTKOb5CotLPZ23xF1TvxkAUj:brain_test36.h5\"\n",
        "\"1HQqDOJ5CK4j8LBdPpGqDZL-OpBR3BJdf:brain_test25.h5\"\n",
        "\"1n7UmYgDV1WKbylEo9qBR6Ehz7WPkV4n0:brain_test26.h5\"\n",
        "\"1TU29dD1HDGuzJ7H600fYp7bu1ERHd6-O:brain_test22.h5\"\n",
        "\"1104q92wm9ByT32T_moDC-Igi1fZlsKY3:brain_test34.h5\"\n",
        "\"12h5gI6Qv8a2d4oNk7nP2doyA4BxybGH4:brain_test23.h5\"\n",
        "\"1quteZisfpuo2GI8Z4rkl7mnwCOsjhUmH:brain_test21.h5\"\n",
        "\"1Ipx5ad1ZnypDMMr6wzmbyYrE5S8Jqr_m:brain_test37.h5\"\n",
        "\"1v8SXA9qqUaCTWaBDpFPGq7TRw7MiHGIL:brain_test47.h5\"\n",
        "\"1QkBtjqO20zWLwFlTjJfXxrp1_rog7Y1P:brain_test41.h5\")\n",
        "for file in \"${FILES[@]}\" ; do\n",
        "    ID=\"${file%%:*}\"\n",
        "    FILE=\"${file##*:}\"\n",
        "    echo \"$ID\" \"$NAME\"\n",
        "    curl -c ./cookie -s -L \"https://drive.google.com/uc?export=download&id=${ID}\" > /dev/null\n",
        "    curl -Lb ./cookie \"https://drive.google.com/uc?export=download&confirm=`awk '/download/ {print $NF}' ./cookie`&id=${ID}\" -o ${FILE}\n",
        "done\n",
        "rm cookie\n",
        "```"
      ]
    },
    {
      "cell_type": "markdown",
      "metadata": {
        "id": "uguzWHPBsm0c"
      },
      "source": [
        "# copy 구글 공유문서함의 폴더 to 자신의 구글드라이브\n",
        "타인이 공유한 공유문서함의 폴더를 자신의 구글드라이브에 옮긴 후 Transfer 작업을 진행한다."
      ]
    },
    {
      "cell_type": "markdown",
      "metadata": {
        "id": "65yZDPm3ycK7"
      },
      "source": [
        "**in google drive**\n",
        "공유문서함의 폴더 우클릭 > 드라이브에 바로가기 추가\n",
        "\n",
        "본 문서에서는 `/content/drive/Shareddrives/FastMRI-Duya/Data/image_Leaderboard`에 바로가기 추가하였고 `/content/drive/Shareddrives/FastMRI-Duya/image_Leaderboard/`에 복사하고자 한다."
      ]
    },
    {
      "cell_type": "code",
      "metadata": {
        "colab": {
          "base_uri": "https://localhost:8080/"
        },
        "id": "HTTpVu3XswmZ",
        "outputId": "5011a179-2412-4c34-e5a2-643960a34715"
      },
      "source": [
        "from google.colab import drive\n",
        "drive.mount('/content/drive')"
      ],
      "execution_count": 1,
      "outputs": [
        {
          "output_type": "stream",
          "name": "stdout",
          "text": [
            "Mounted at /content/drive\n"
          ]
        }
      ]
    },
    {
      "cell_type": "code",
      "metadata": {
        "colab": {
          "base_uri": "https://localhost:8080/"
        },
        "id": "X7TBBmZLs2mK",
        "outputId": "52b348af-a00f-4fca-ee38-62f1c38293ea"
      },
      "source": [
        "cd /content/drive/Shareddrives/FastMRI-Duya/Data/image_Leaderboard"
      ],
      "execution_count": 2,
      "outputs": [
        {
          "output_type": "stream",
          "name": "stdout",
          "text": [
            "/content/drive/.shortcut-targets-by-id/1xinBP_G8M9B7AAXhQOZ7FRLCzqDKExeT/image_Leaderboard\n"
          ]
        }
      ]
    },
    {
      "cell_type": "code",
      "metadata": {
        "colab": {
          "base_uri": "https://localhost:8080/"
        },
        "id": "Ua9oudhBs_i1",
        "outputId": "f93782df-ea82-45f8-8c30-25e2e6682f17"
      },
      "source": [
        "ls"
      ],
      "execution_count": 3,
      "outputs": [
        {
          "output_type": "stream",
          "name": "stdout",
          "text": [
            "brain_test10.h5  brain_test22.h5  brain_test34.h5  brain_test46.h5\n",
            "brain_test11.h5  brain_test23.h5  brain_test35.h5  brain_test47.h5\n",
            "brain_test12.h5  brain_test24.h5  brain_test36.h5  brain_test48.h5\n",
            "brain_test13.h5  brain_test25.h5  brain_test37.h5  brain_test49.h5\n",
            "brain_test14.h5  brain_test26.h5  brain_test38.h5  brain_test4.h5\n",
            "brain_test15.h5  brain_test27.h5  brain_test39.h5  brain_test50.h5\n",
            "brain_test16.h5  brain_test28.h5  brain_test3.h5   brain_test5.h5\n",
            "brain_test17.h5  brain_test29.h5  brain_test40.h5  brain_test6.h5\n",
            "brain_test18.h5  brain_test2.h5   brain_test41.h5  brain_test7.h5\n",
            "brain_test19.h5  brain_test30.h5  brain_test42.h5  brain_test8.h5\n",
            "brain_test1.h5   brain_test31.h5  brain_test43.h5  brain_test9.h5\n",
            "brain_test20.h5  brain_test32.h5  brain_test44.h5\n",
            "brain_test21.h5  brain_test33.h5  brain_test45.h5\n"
          ]
        }
      ]
    },
    {
      "cell_type": "code",
      "metadata": {
        "colab": {
          "base_uri": "https://localhost:8080/",
          "height": 35
        },
        "id": "4vnal1mhtEFl",
        "outputId": "affc7cc2-99b9-435b-8f4b-abf99dc09cee"
      },
      "source": [
        "pwd"
      ],
      "execution_count": 4,
      "outputs": [
        {
          "output_type": "execute_result",
          "data": {
            "application/vnd.google.colaboratory.intrinsic+json": {
              "type": "string"
            },
            "text/plain": [
              "'/content/drive/.shortcut-targets-by-id/1xinBP_G8M9B7AAXhQOZ7FRLCzqDKExeT/image_Leaderboard'"
            ]
          },
          "metadata": {},
          "execution_count": 4
        }
      ]
    },
    {
      "cell_type": "code",
      "metadata": {
        "colab": {
          "base_uri": "https://localhost:8080/"
        },
        "id": "2-xdXBhbta3D",
        "outputId": "aa282ea1-a26e-4cfd-e612-c4aa322f7184"
      },
      "source": [
        "%%bash \n",
        "\n",
        "sharedfolder=$(pwd)\n",
        "mydrive=/content/drive/Shareddrives/FastMRI-Duya/image_Leaderboard/\n",
        "cp -r \"${sharedfolder}/.\" \"${mydrive}\""
      ],
      "execution_count": 5,
      "outputs": [
        {
          "output_type": "stream",
          "name": "stdout",
          "text": [
            "Process is interrupted.\n"
          ]
        }
      ]
    },
    {
      "cell_type": "code",
      "metadata": {
        "colab": {
          "base_uri": "https://localhost:8080/",
          "height": 35
        },
        "id": "3AL8mBuN2cpk",
        "outputId": "76c5f67c-4e71-4a00-9df3-79f53633a6d9"
      },
      "source": [
        "pwd"
      ],
      "execution_count": 19,
      "outputs": [
        {
          "output_type": "execute_result",
          "data": {
            "application/vnd.google.colaboratory.intrinsic+json": {
              "type": "string"
            },
            "text/plain": [
              "'/content/drive/.shortcut-targets-by-id/1xinBP_G8M9B7AAXhQOZ7FRLCzqDKExeT/image_Leaderboard'"
            ]
          },
          "metadata": {},
          "execution_count": 19
        }
      ]
    },
    {
      "cell_type": "markdown",
      "metadata": {
        "id": "AupH3cwC-mCC"
      },
      "source": [
        "#Gdrive Folder Transfer using zip"
      ]
    },
    {
      "cell_type": "markdown",
      "metadata": {
        "id": "eF61gbd26teu"
      },
      "source": [
        "gdrive의 내부 다운로드 요청 처리과정의 변화로 wget의 폴더 다운로드가 막힘.\n",
        "\n",
        "\n",
        "압축파일 만들고 이를 전송한다."
      ]
    },
    {
      "cell_type": "markdown",
      "metadata": {
        "id": "K5eojWtf_FhY"
      },
      "source": [
        "`/content/drive/Shareddrives/FastMRI-Duya/Colab` 폴더를 `nemod@master:/scratch/connectome/nemod/FastMRI`에 복사하고자 한다."
      ]
    },
    {
      "cell_type": "code",
      "metadata": {
        "colab": {
          "base_uri": "https://localhost:8080/"
        },
        "id": "X01WaRQN6DwF",
        "outputId": "db25b8b0-831b-4cd8-bebb-e0d78e5d3560"
      },
      "source": [
        "from google.colab import drive\n",
        "drive.mount('/content/drive')"
      ],
      "execution_count": 1,
      "outputs": [
        {
          "output_type": "stream",
          "name": "stdout",
          "text": [
            "Mounted at /content/drive\n"
          ]
        }
      ]
    },
    {
      "cell_type": "code",
      "metadata": {
        "colab": {
          "base_uri": "https://localhost:8080/"
        },
        "id": "lbyNxH9v6JPH",
        "outputId": "04e782c1-7d2f-4a5e-e7a8-9181e3a16d5e"
      },
      "source": [
        "cd /content/drive/Shareddrives/FastMRI-Duya/"
      ],
      "execution_count": null,
      "outputs": [
        {
          "output_type": "stream",
          "text": [
            "/content/drive/Shareddrives/FastMRI-Duya\n"
          ],
          "name": "stdout"
        }
      ]
    },
    {
      "cell_type": "code",
      "metadata": {
        "colab": {
          "base_uri": "https://localhost:8080/"
        },
        "id": "jivveJ1I6LnX",
        "outputId": "e01fd87f-9af9-4091-cb1d-3c61abe38a24"
      },
      "source": [
        "ls"
      ],
      "execution_count": null,
      "outputs": [
        {
          "output_type": "stream",
          "text": [
            " \u001b[0m\u001b[01;34mColab\u001b[0m/   \u001b[01;34mDuya\u001b[0m/                          \u001b[01;36m'k-space(분할압축)'\u001b[0m\u001b[K@\n",
            " \u001b[01;34mData\u001b[0m/   'Gdrive Folder Download.ipynb'   \u001b[01;34mSNU-Challenge\u001b[0m/\n"
          ],
          "name": "stdout"
        }
      ]
    },
    {
      "cell_type": "code",
      "metadata": {
        "colab": {
          "base_uri": "https://localhost:8080/"
        },
        "id": "-fQqRWWN6MlP",
        "outputId": "889ea1eb-38ee-41c8-8d9e-dd5b437519cc"
      },
      "source": [
        "!zip -r Colab.zip Colab/"
      ],
      "execution_count": null,
      "outputs": [
        {
          "output_type": "stream",
          "text": [
            "  adding: Colab/ (stored 0%)\n",
            "  adding: Colab/ env/ (stored 0%)\n",
            "  adding: Colab/pic/ (stored 0%)\n",
            "  adding: Colab/pic/brain100_image_grappa.gif (deflated 35%)\n",
            "  adding: Colab/.ipynb_checkpoints/ (stored 0%)\n",
            "  adding: Colab/FastMRI Basecode_test_1st.ipynb (deflated 69%)\n",
            "  adding: Colab/First_Datacheck.ipynb (deflated 32%)\n",
            "  adding: Colab/unzip_kspace.ipynb (deflated 63%)\n",
            "  adding: Colab/ssh connection (seoyoon).ipynb (deflated 26%)\n"
          ],
          "name": "stdout"
        }
      ]
    },
    {
      "cell_type": "code",
      "metadata": {
        "colab": {
          "base_uri": "https://localhost:8080/"
        },
        "id": "28-QSHtr6bm7",
        "outputId": "d7aadcf9-f6c2-472f-9330-b926c05ece2d"
      },
      "source": [
        "ls"
      ],
      "execution_count": null,
      "outputs": [
        {
          "output_type": "stream",
          "text": [
            " \u001b[0m\u001b[01;34mColab\u001b[0m/      \u001b[01;34mData\u001b[0m/  'Gdrive Folder Download.ipynb'   \u001b[01;34mSNU-Challenge\u001b[0m/\n",
            " Colab.zip   \u001b[01;34mDuya\u001b[0m/  \u001b[01;36m'k-space(분할압축)'\u001b[0m@\n"
          ],
          "name": "stdout"
        }
      ]
    },
    {
      "cell_type": "markdown",
      "metadata": {
        "id": "TJA5xg3nDyob"
      },
      "source": [
        "### **in Google Drive**\n",
        "`Colab.zip` 우클릭 > 링크 생성 > 제한됨 > 링크가 있는 모든 사용자에게 공개 > 뷰어 > 편집자 > 링크 복사\n",
        "\n",
        "\n",
        "* 링크에서 ID를 찾는다!\n",
        "\n",
        "https://drive.google.com/file/d/1-5UXlrvMWmtPyRwk6SlFMeI5ultMENVE/view?usp=sharing\n",
        "\n",
        "ID=\"1-5UXlrvMWmtPyRwk6SlFMeI5ultMENVE\""
      ]
    },
    {
      "cell_type": "markdown",
      "metadata": {
        "id": "_eSVKHmC6xs-"
      },
      "source": [
        "### **in Terminal**\n",
        "\n",
        "* nemod@master:/scratch/connectome/nemod/FastMRI 접속\n",
        "\n",
        "* nemod@master:/scratch/connectome/nemod/FastMRI$\n",
        "```\n",
        "ID=\"1-5UXlrvMWmtPyRwk6SlFMeI5ultMENVE\"\n",
        "FILE=\"Colab.zip\"\n",
        "curl -c ./cookie -s -L \"https://drive.google.com/uc?export=download&id=${ID}\" > /dev/null\n",
        "curl -Lb ./cookie \"https://drive.google.com/uc?export=download&confirm=`awk '/download/ {print $NF}' ./cookie`&id=${ID}\" -o ${FILE}\n",
        "rm cookie\n",
        "```\n",
        "\n",
        "* nemod@master:/scratch/connectome/nemod/FastMRI$\n",
        "```\n",
        "unzip ${FILE}\n",
        "rm ${FILE}\n",
        "```"
      ]
    },
    {
      "cell_type": "markdown",
      "metadata": {
        "id": "lN8OlCSS-C-D"
      },
      "source": [
        "### in **Colab**"
      ]
    },
    {
      "cell_type": "code",
      "metadata": {
        "id": "zynqRluH6iv1"
      },
      "source": [
        "rm Colab.zip"
      ],
      "execution_count": null,
      "outputs": []
    }
  ]
}