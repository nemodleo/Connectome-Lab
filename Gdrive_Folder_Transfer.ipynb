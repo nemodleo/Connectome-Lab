{
  "nbformat": 4,
  "nbformat_minor": 0,
  "metadata": {
    "colab": {
      "name": "Gdrive Folder Transfer.ipynb",
      "provenance": [],
      "collapsed_sections": [],
      "include_colab_link": true
    },
    "kernelspec": {
      "name": "python3",
      "display_name": "Python 3"
    },
    "language_info": {
      "name": "python"
    }
  },
  "cells": [
    {
      "cell_type": "markdown",
      "metadata": {
        "id": "view-in-github",
        "colab_type": "text"
      },
      "source": [
        "<a href=\"https://colab.research.google.com/github/nemodleo/Connectome-Lab/blob/main/Gdrive_Folder_Transfer.ipynb\" target=\"_parent\"><img src=\"https://colab.research.google.com/assets/colab-badge.svg\" alt=\"Open In Colab\"/></a>"
      ]
    },
    {
      "cell_type": "markdown",
      "metadata": {
        "id": "uguzWHPBsm0c"
      },
      "source": [
        "# 구글 공유문서함의 폴더\n",
        "타인이 공유한 공유문서함의 폴더를 자신의 구글드라이브에 옮긴 후 Transfer 작업을 진행한다."
      ]
    },
    {
      "cell_type": "markdown",
      "metadata": {
        "id": "65yZDPm3ycK7"
      },
      "source": [
        "**in google drive**\n",
        "공유문서함의 폴더 우클릭 > 드라이브에 바로가기 추가\n",
        "\n",
        "본 문서에서는 `/content/drive/Shareddrives/FastMRI-Duya/Data/image_Leaderboard`에 바로가기 추가하였고 `/content/drive/Shareddrives/FastMRI-Duya/image_Leaderboard/`에 복사하고자 한다."
      ]
    },
    {
      "cell_type": "code",
      "metadata": {
        "colab": {
          "base_uri": "https://localhost:8080/"
        },
        "id": "HTTpVu3XswmZ",
        "outputId": "fa4b0850-6eb1-400a-d43e-0fd9b8e60e8a"
      },
      "source": [
        "from google.colab import drive\n",
        "drive.mount('/content/drive')"
      ],
      "execution_count": 1,
      "outputs": [
        {
          "output_type": "stream",
          "name": "stdout",
          "text": [
            "Mounted at /content/drive\n"
          ]
        }
      ]
    },
    {
      "cell_type": "code",
      "metadata": {
        "colab": {
          "base_uri": "https://localhost:8080/"
        },
        "id": "X7TBBmZLs2mK",
        "outputId": "55f9fac0-8ca9-44ac-ffda-0f7f488f5ecd"
      },
      "source": [
        "cd /content/drive/Shareddrives/FastMRI-Duya/Data/image_Leaderboard"
      ],
      "execution_count": 3,
      "outputs": [
        {
          "output_type": "stream",
          "name": "stdout",
          "text": [
            "/content/drive/.shortcut-targets-by-id/1xinBP_G8M9B7AAXhQOZ7FRLCzqDKExeT/image_Leaderboard\n"
          ]
        }
      ]
    },
    {
      "cell_type": "code",
      "metadata": {
        "colab": {
          "base_uri": "https://localhost:8080/"
        },
        "id": "Ua9oudhBs_i1",
        "outputId": "d0560efd-5847-405e-ce28-5fa175894db3"
      },
      "source": [
        "ls"
      ],
      "execution_count": 4,
      "outputs": [
        {
          "output_type": "stream",
          "name": "stdout",
          "text": [
            "brain_test10.h5  brain_test22.h5  brain_test34.h5  brain_test46.h5\n",
            "brain_test11.h5  brain_test23.h5  brain_test35.h5  brain_test47.h5\n",
            "brain_test12.h5  brain_test24.h5  brain_test36.h5  brain_test48.h5\n",
            "brain_test13.h5  brain_test25.h5  brain_test37.h5  brain_test49.h5\n",
            "brain_test14.h5  brain_test26.h5  brain_test38.h5  brain_test4.h5\n",
            "brain_test15.h5  brain_test27.h5  brain_test39.h5  brain_test50.h5\n",
            "brain_test16.h5  brain_test28.h5  brain_test3.h5   brain_test5.h5\n",
            "brain_test17.h5  brain_test29.h5  brain_test40.h5  brain_test6.h5\n",
            "brain_test18.h5  brain_test2.h5   brain_test41.h5  brain_test7.h5\n",
            "brain_test19.h5  brain_test30.h5  brain_test42.h5  brain_test8.h5\n",
            "brain_test1.h5   brain_test31.h5  brain_test43.h5  brain_test9.h5\n",
            "brain_test20.h5  brain_test32.h5  brain_test44.h5\n",
            "brain_test21.h5  brain_test33.h5  brain_test45.h5\n"
          ]
        }
      ]
    },
    {
      "cell_type": "code",
      "metadata": {
        "colab": {
          "base_uri": "https://localhost:8080/",
          "height": 35
        },
        "id": "4vnal1mhtEFl",
        "outputId": "f7c8efbe-29e5-4bdd-ce0f-de2c923c0a29"
      },
      "source": [
        "pwd"
      ],
      "execution_count": 5,
      "outputs": [
        {
          "output_type": "execute_result",
          "data": {
            "application/vnd.google.colaboratory.intrinsic+json": {
              "type": "string"
            },
            "text/plain": [
              "'/content/drive/.shortcut-targets-by-id/1xinBP_G8M9B7AAXhQOZ7FRLCzqDKExeT/image_Leaderboard'"
            ]
          },
          "metadata": {},
          "execution_count": 5
        }
      ]
    },
    {
      "cell_type": "code",
      "metadata": {
        "id": "2-xdXBhbta3D"
      },
      "source": [
        "%%bash \n",
        "\n",
        "sharedfolder=$(pwd)\n",
        "mydrive=/content/drive/Shareddrives/FastMRI-Duya/image_Leaderboard/\n",
        "cp -r \"${sharedfolder}/.\" \"${mydrive}\""
      ],
      "execution_count": 6,
      "outputs": []
    },
    {
      "cell_type": "code",
      "metadata": {
        "id": "sD3Y4ldQ_vb2"
      },
      "source": [
        ""
      ],
      "execution_count": null,
      "outputs": []
    },
    {
      "cell_type": "markdown",
      "metadata": {
        "id": "AupH3cwC-mCC"
      },
      "source": [
        "#Gdrive Folder Transfer"
      ]
    },
    {
      "cell_type": "markdown",
      "metadata": {
        "id": "eF61gbd26teu"
      },
      "source": [
        "gdrive의 내부 다운로드 요청 처리과정의 변화로 wget의 폴더 다운로드가 막힘.\n",
        "\n",
        "\n",
        "압축파일 만들고 이를 전송한다."
      ]
    },
    {
      "cell_type": "markdown",
      "metadata": {
        "id": "K5eojWtf_FhY"
      },
      "source": [
        "`/content/drive/Shareddrives/FastMRI-Duya/Colab` 폴더를 `nemod@master:/scratch/connectome/nemod/FastMRI`에 복사하고자 한다."
      ]
    },
    {
      "cell_type": "code",
      "metadata": {
        "colab": {
          "base_uri": "https://localhost:8080/"
        },
        "id": "X01WaRQN6DwF",
        "outputId": "db25b8b0-831b-4cd8-bebb-e0d78e5d3560"
      },
      "source": [
        "from google.colab import drive\n",
        "drive.mount('/content/drive')"
      ],
      "execution_count": 1,
      "outputs": [
        {
          "output_type": "stream",
          "name": "stdout",
          "text": [
            "Mounted at /content/drive\n"
          ]
        }
      ]
    },
    {
      "cell_type": "code",
      "metadata": {
        "colab": {
          "base_uri": "https://localhost:8080/"
        },
        "id": "lbyNxH9v6JPH",
        "outputId": "04e782c1-7d2f-4a5e-e7a8-9181e3a16d5e"
      },
      "source": [
        "cd /content/drive/Shareddrives/FastMRI-Duya/"
      ],
      "execution_count": null,
      "outputs": [
        {
          "output_type": "stream",
          "text": [
            "/content/drive/Shareddrives/FastMRI-Duya\n"
          ],
          "name": "stdout"
        }
      ]
    },
    {
      "cell_type": "code",
      "metadata": {
        "colab": {
          "base_uri": "https://localhost:8080/"
        },
        "id": "jivveJ1I6LnX",
        "outputId": "e01fd87f-9af9-4091-cb1d-3c61abe38a24"
      },
      "source": [
        "ls"
      ],
      "execution_count": null,
      "outputs": [
        {
          "output_type": "stream",
          "text": [
            " \u001b[0m\u001b[01;34mColab\u001b[0m/   \u001b[01;34mDuya\u001b[0m/                          \u001b[01;36m'k-space(분할압축)'\u001b[0m\u001b[K@\n",
            " \u001b[01;34mData\u001b[0m/   'Gdrive Folder Download.ipynb'   \u001b[01;34mSNU-Challenge\u001b[0m/\n"
          ],
          "name": "stdout"
        }
      ]
    },
    {
      "cell_type": "code",
      "metadata": {
        "colab": {
          "base_uri": "https://localhost:8080/"
        },
        "id": "-fQqRWWN6MlP",
        "outputId": "889ea1eb-38ee-41c8-8d9e-dd5b437519cc"
      },
      "source": [
        "!zip -r Colab.zip Colab/"
      ],
      "execution_count": null,
      "outputs": [
        {
          "output_type": "stream",
          "text": [
            "  adding: Colab/ (stored 0%)\n",
            "  adding: Colab/ env/ (stored 0%)\n",
            "  adding: Colab/pic/ (stored 0%)\n",
            "  adding: Colab/pic/brain100_image_grappa.gif (deflated 35%)\n",
            "  adding: Colab/.ipynb_checkpoints/ (stored 0%)\n",
            "  adding: Colab/FastMRI Basecode_test_1st.ipynb (deflated 69%)\n",
            "  adding: Colab/First_Datacheck.ipynb (deflated 32%)\n",
            "  adding: Colab/unzip_kspace.ipynb (deflated 63%)\n",
            "  adding: Colab/ssh connection (seoyoon).ipynb (deflated 26%)\n"
          ],
          "name": "stdout"
        }
      ]
    },
    {
      "cell_type": "code",
      "metadata": {
        "colab": {
          "base_uri": "https://localhost:8080/"
        },
        "id": "28-QSHtr6bm7",
        "outputId": "d7aadcf9-f6c2-472f-9330-b926c05ece2d"
      },
      "source": [
        "ls"
      ],
      "execution_count": null,
      "outputs": [
        {
          "output_type": "stream",
          "text": [
            " \u001b[0m\u001b[01;34mColab\u001b[0m/      \u001b[01;34mData\u001b[0m/  'Gdrive Folder Download.ipynb'   \u001b[01;34mSNU-Challenge\u001b[0m/\n",
            " Colab.zip   \u001b[01;34mDuya\u001b[0m/  \u001b[01;36m'k-space(분할압축)'\u001b[0m@\n"
          ],
          "name": "stdout"
        }
      ]
    },
    {
      "cell_type": "markdown",
      "metadata": {
        "id": "TJA5xg3nDyob"
      },
      "source": [
        "### **in Google Drive**\n",
        "`Colab.zip` 우클릭 > 링크 생성 > 제한됨 > 링크가 있는 모든 사용자에게 공개 > 뷰어 > 편집자 > 링크 복사\n",
        "\n",
        "\n",
        "* 링크에서 ID를 찾는다!\n",
        "\n",
        "https://drive.google.com/file/d/1-5UXlrvMWmtPyRwk6SlFMeI5ultMENVE/view?usp=sharing\n",
        "\n",
        "ID=\"1-5UXlrvMWmtPyRwk6SlFMeI5ultMENVE\""
      ]
    },
    {
      "cell_type": "markdown",
      "metadata": {
        "id": "_eSVKHmC6xs-"
      },
      "source": [
        "### **in Terminal**\n",
        "\n",
        "* nemod@master:/scratch/connectome/nemod/FastMRI 접속\n",
        "\n",
        "* nemod@master:/scratch/connectome/nemod/FastMRI$\n",
        "```\n",
        "ID=\"1-5UXlrvMWmtPyRwk6SlFMeI5ultMENVE\"\n",
        "FILE=\"Colab.zip\"\n",
        "curl -c ./cookie -s -L \"https://drive.google.com/uc?export=download&id=${ID}\" > /dev/null\n",
        "curl -Lb ./cookie \"https://drive.google.com/uc?export=download&confirm=`awk '/download/ {print $NF}' ./cookie`&id=${ID}\" -o ${FILE}\n",
        "rm cookie\n",
        "```\n",
        "\n",
        "* nemod@master:/scratch/connectome/nemod/FastMRI$\n",
        "```\n",
        "unzip ${FILE}\n",
        "rm ${FILE}\n",
        "```"
      ]
    },
    {
      "cell_type": "markdown",
      "metadata": {
        "id": "lN8OlCSS-C-D"
      },
      "source": [
        "### in **Colab**"
      ]
    },
    {
      "cell_type": "code",
      "metadata": {
        "id": "zynqRluH6iv1"
      },
      "source": [
        "rm Colab.zip"
      ],
      "execution_count": null,
      "outputs": []
    }
  ]
}