{
  "nbformat": 4,
  "nbformat_minor": 0,
  "metadata": {
    "colab": {
      "name": "Gdrive Folder Download.ipynb",
      "provenance": [],
      "authorship_tag": "ABX9TyNKEO7HCqghKBZnkkeetw7l",
      "include_colab_link": true
    },
    "kernelspec": {
      "name": "python3",
      "display_name": "Python 3"
    },
    "language_info": {
      "name": "python"
    }
  },
  "cells": [
    {
      "cell_type": "markdown",
      "metadata": {
        "id": "view-in-github",
        "colab_type": "text"
      },
      "source": [
        "<a href=\"https://colab.research.google.com/github/nemodleo/Connectome-Lab/blob/main/Gdrive_Folder_Download.ipynb\" target=\"_parent\"><img src=\"https://colab.research.google.com/assets/colab-badge.svg\" alt=\"Open In Colab\"/></a>"
      ]
    },
    {
      "cell_type": "markdown",
      "metadata": {
        "id": "AupH3cwC-mCC"
      },
      "source": [
        "#Gdrive Folder Download"
      ]
    },
    {
      "cell_type": "markdown",
      "metadata": {
        "id": "eF61gbd26teu"
      },
      "source": [
        "gdrive의 내부 다운로드 요청 처리과정의 변화로 wget의 폴더 다운로드가 막힘.\n",
        "\n",
        "\n",
        "압축파일 만들고 이를 전송한다."
      ]
    },
    {
      "cell_type": "markdown",
      "metadata": {
        "id": "K5eojWtf_FhY"
      },
      "source": [
        "`/content/drive/Shareddrives/FastMRI-Duya/Colab` 폴더를 `nemod@master:/scratch/connectome/nemod/FastMRI`에 복사하고자 한다."
      ]
    },
    {
      "cell_type": "code",
      "metadata": {
        "colab": {
          "base_uri": "https://localhost:8080/",
          "height": 0
        },
        "id": "X01WaRQN6DwF",
        "outputId": "c3a39023-873f-4dd8-efa9-bd908f96c53f"
      },
      "source": [
        "from google.colab import drive\n",
        "drive.mount('/content/drive')"
      ],
      "execution_count": 1,
      "outputs": [
        {
          "output_type": "stream",
          "text": [
            "Mounted at /content/drive\n"
          ],
          "name": "stdout"
        }
      ]
    },
    {
      "cell_type": "code",
      "metadata": {
        "colab": {
          "base_uri": "https://localhost:8080/",
          "height": 0
        },
        "id": "lbyNxH9v6JPH",
        "outputId": "c94410be-7c3b-4163-d638-14ce05d13bf9"
      },
      "source": [
        "cd /content/drive/Shareddrives/FastMRI-Duya/"
      ],
      "execution_count": 6,
      "outputs": [
        {
          "output_type": "stream",
          "text": [
            "/content/drive/Shareddrives/FastMRI-Duya\n"
          ],
          "name": "stdout"
        }
      ]
    },
    {
      "cell_type": "code",
      "metadata": {
        "colab": {
          "base_uri": "https://localhost:8080/",
          "height": 0
        },
        "id": "jivveJ1I6LnX",
        "outputId": "6da5b728-0e08-487c-ed9a-f67a19092c84"
      },
      "source": [
        "ls"
      ],
      "execution_count": 7,
      "outputs": [
        {
          "output_type": "stream",
          "text": [
            " \u001b[0m\u001b[01;34mColab\u001b[0m/   \u001b[01;34mDuya\u001b[0m/                 \u001b[01;34mSNU-Challenge\u001b[0m/\n",
            " \u001b[01;34mData\u001b[0m/   \u001b[01;36m'k-space(분할압축)'\u001b[0m@   Untitled0.ipynb\n"
          ],
          "name": "stdout"
        }
      ]
    },
    {
      "cell_type": "code",
      "metadata": {
        "colab": {
          "base_uri": "https://localhost:8080/",
          "height": 0
        },
        "id": "-fQqRWWN6MlP",
        "outputId": "d6af7830-6151-40ab-ee2f-1c9c8305a2f7"
      },
      "source": [
        "!zip -r Colab.zip Colab/"
      ],
      "execution_count": 9,
      "outputs": [
        {
          "output_type": "stream",
          "text": [
            "  adding: Colab/ (stored 0%)\n",
            "  adding: Colab/ env/ (stored 0%)\n",
            "  adding: Colab/pic/ (stored 0%)\n",
            "  adding: Colab/pic/brain100_image_grappa.gif (deflated 35%)\n",
            "  adding: Colab/.ipynb_checkpoints/ (stored 0%)\n",
            "  adding: Colab/FastMRI Basecode_test_1st.ipynb (deflated 69%)\n",
            "  adding: Colab/First_Datacheck.ipynb (deflated 32%)\n",
            "  adding: Colab/unzip_kspace.ipynb (deflated 63%)\n",
            "  adding: Colab/ssh connection (seoyoon).ipynb (deflated 26%)\n"
          ],
          "name": "stdout"
        }
      ]
    },
    {
      "cell_type": "code",
      "metadata": {
        "colab": {
          "base_uri": "https://localhost:8080/",
          "height": 0
        },
        "id": "28-QSHtr6bm7",
        "outputId": "a1845606-3fc8-48ff-8845-2f1aecc2598b"
      },
      "source": [
        "ls"
      ],
      "execution_count": 10,
      "outputs": [
        {
          "output_type": "stream",
          "text": [
            " \u001b[0m\u001b[01;34mColab\u001b[0m/      \u001b[01;34mData\u001b[0m/  \u001b[01;36m'k-space(분할압축)'\u001b[0m@   Untitled0.ipynb\n",
            " Colab.zip   \u001b[01;34mDuya\u001b[0m/   \u001b[01;34mSNU-Challenge\u001b[0m/\n"
          ],
          "name": "stdout"
        }
      ]
    },
    {
      "cell_type": "markdown",
      "metadata": {
        "id": "_eSVKHmC6xs-"
      },
      "source": [
        "## in Terminal\n",
        "\n",
        "* nemod@master:/scratch/connectome/nemod/FastMRI 접속\n",
        "\n",
        "* nemod@master:/scratch/connectome/nemod/FastMRI$\n",
        "```\n",
        "ID=\"1I3LJeO7qbhLjIW6Vzto97Bzmm2m3KpsS\"\n",
        "FILE=\"Colab.zip\"\n",
        "curl -c ./cookie -s -L \"https://drive.google.com/uc?export=download&id={ID}\" > /dev/null\n",
        "curl -Lb ./cookie \"https://drive.google.com/uc?export=download&confirm=`awk '/download/ {print $NF}' ./cookie`&id={ID}\" -o {FILE}\n",
        "rm cookie\n",
        "```\n",
        "\n",
        "* nemod@master:/scratch/connectome/nemod/FastMRI$\n",
        "```\n",
        "unzip {FILE}\n",
        "```"
      ]
    },
    {
      "cell_type": "markdown",
      "metadata": {
        "id": "lN8OlCSS-C-D"
      },
      "source": [
        "# in Colab"
      ]
    },
    {
      "cell_type": "code",
      "metadata": {
        "colab": {
          "base_uri": "https://localhost:8080/",
          "height": 0
        },
        "id": "zynqRluH6iv1",
        "outputId": "66c765af-59a9-41fd-b5ec-0e2ee4267233"
      },
      "source": [
        "rm Colab.zip"
      ],
      "execution_count": 12,
      "outputs": [
        {
          "output_type": "stream",
          "text": [
            "rm: cannot remove 'Colab.zip': No such file or directory\n"
          ],
          "name": "stdout"
        }
      ]
    },
    {
      "cell_type": "code",
      "metadata": {
        "id": "sD3Y4ldQ_vb2"
      },
      "source": [
        ""
      ],
      "execution_count": null,
      "outputs": []
    }
  ]
}